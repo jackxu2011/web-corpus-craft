{
 "cells": [
  {
   "cell_type": "code",
   "execution_count": null,
   "id": "2b9183e9",
   "metadata": {},
   "outputs": [],
   "source": [
    "from glob import glob\n",
    "import os\n",
    "from tqdm import tqdm\n",
    "from utils.data_util import gunzip_file\n",
    "\n",
    "files = glob('/work/group1/datasets/v3/traffic/*.jsonl.gz')\n",
    "os.makedirs('/work/group1/datasets/v3/jsonl/', exist_ok=True)\n",
    "\n",
    "for file in tqdm(files):\n",
    "  filename = os.path.splitext(os.path.basename(file))[0]\n",
    "  gunzip_file(file, f'/work/group1/datasets/v3/jsonl/{filename}')\n"
   ]
  },
  {
   "cell_type": "code",
   "execution_count": 1,
   "id": "5f7328ac",
   "metadata": {},
   "outputs": [],
   "source": [
    "import pandas as pd\n",
    "\n",
    "df = pd.read_json('data/datatrove/fst/minhash/fst/00000.jsonl.gz', lines=True)\n",
    "df.to_csv('data/fasttext/v2/fst/quiality.csv', index=False)"
   ]
  },
  {
   "cell_type": "code",
   "execution_count": 1,
   "id": "64013302",
   "metadata": {},
   "outputs": [],
   "source": [
    "import pandas as pd\n",
    "\n",
    "# 定义表头（列名）列表\n",
    "headers = ['姓名', '年龄', '性别', '职业']\n",
    "\n",
    "# 创建只包含表头的空DataFrame\n",
    "df = pd.DataFrame(columns=headers)\n",
    "\n",
    "df.to_csv('text.csv', index=False)"
   ]
  }
 ],
 "metadata": {
  "kernelspec": {
   "display_name": "web-corpus-craft",
   "language": "python",
   "name": "python3"
  },
  "language_info": {
   "codemirror_mode": {
    "name": "ipython",
    "version": 3
   },
   "file_extension": ".py",
   "mimetype": "text/x-python",
   "name": "python",
   "nbconvert_exporter": "python",
   "pygments_lexer": "ipython3",
   "version": "3.12.11"
  }
 },
 "nbformat": 4,
 "nbformat_minor": 5
}
